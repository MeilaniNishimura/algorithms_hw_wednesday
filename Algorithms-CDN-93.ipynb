{
 "cells": [
  {
   "cell_type": "markdown",
   "metadata": {},
   "source": [
    "# Cl"
   ]
  },
  {
   "cell_type": "markdown",
   "metadata": {},
   "source": [
    "## Tasks Today:\n",
    " \n",
    "1) <b>In-Place Algorithms</b> <br>\n",
    " &nbsp;&nbsp;&nbsp;&nbsp; a) Syntax <br>\n",
    " &nbsp;&nbsp;&nbsp;&nbsp; a) Out of Place Algorithm <br>\n",
    " &nbsp;&nbsp;&nbsp;&nbsp; b) In-Class Exercise #1 <br>\n",
    "2) <b>Two Pointers</b> <br>\n",
    "3) <b>Linked Lists</b> <br>\n",
    "4) <b>Merge Sort</b> <br>\n",
    " &nbsp;&nbsp;&nbsp;&nbsp; a) Video on Algorithms <br>\n",
    " &nbsp;&nbsp;&nbsp;&nbsp; b) How it Works <br>\n",
    "5) <b>Exercises</b> <br>\n",
    " &nbsp;&nbsp;&nbsp;&nbsp; a) Exercise #1 - Reverse a List in Place Using an In-Place Algorithm <br>\n",
    " &nbsp;&nbsp;&nbsp;&nbsp; b) Exercise #2 - Find Distinct Words <br>\n",
    " &nbsp;&nbsp;&nbsp;&nbsp; c) Exercise #3 - Write a program to implement a Linear Search Algorithm. <br>"
   ]
  },
  {
   "cell_type": "markdown",
   "metadata": {},
   "source": [
    "## In-Place Algorithms"
   ]
  },
  {
   "cell_type": "markdown",
   "metadata": {},
   "source": [
    "#### Syntax"
   ]
  },
  {
   "cell_type": "code",
   "execution_count": 4,
   "metadata": {},
   "outputs": [
    {
     "name": "stdout",
     "output_type": "stream",
     "text": [
      "[1, 2, 3]\n",
      "0x7fe37e6e0ac0\n",
      "[1, 2, 3, 4]\n"
     ]
    }
   ],
   "source": [
    "def test(a):\n",
    "    print(hex(id(a)))\n",
    "    a.append(4)\n",
    "    \n",
    "b = [1,2,3]\n",
    "print(b)\n",
    "test(b)\n",
    "print(b)"
   ]
  },
  {
   "cell_type": "markdown",
   "metadata": {},
   "source": [
    "#### Out of Place Algorithm"
   ]
  },
  {
   "cell_type": "code",
   "execution_count": 5,
   "metadata": {},
   "outputs": [
    {
     "name": "stdout",
     "output_type": "stream",
     "text": [
      "[1, 2, 3]\n",
      "0x7fe37e701240\n",
      "[1, 2, 3]\n"
     ]
    }
   ],
   "source": [
    "# new space of memeroy to work with your data\n",
    "\n",
    "\n",
    "def test(a):\n",
    "    a = a[:]\n",
    "    print(hex(id(a)))\n",
    "    a.append(4)\n",
    "    \n",
    "b = [1,2,3]\n",
    "print(b)\n",
    "test(b)\n",
    "print(b)"
   ]
  },
  {
   "cell_type": "code",
   "execution_count": 7,
   "metadata": {},
   "outputs": [
    {
     "name": "stdout",
     "output_type": "stream",
     "text": [
      "chris\n",
      "Lucas\n"
     ]
    }
   ],
   "source": [
    "a = \"Lucas\"\n",
    "b = \"chris\"\n",
    "\n",
    "a,b = b,a\n",
    "print(a)\n",
    "print(b)"
   ]
  },
  {
   "cell_type": "code",
   "execution_count": 9,
   "metadata": {},
   "outputs": [
    {
     "name": "stdout",
     "output_type": "stream",
     "text": [
      "[1, 2]\n",
      "[1, 2] [2, 1]\n"
     ]
    }
   ],
   "source": [
    "def swap(a_list):\n",
    "    a_list = a_list[:]\n",
    "    a_list[0], a_list[1] = a_list[1], a_list[0]\n",
    "    return a_list\n",
    "\n",
    "my_list = [1,2]\n",
    "\n",
    "print(my_list)\n",
    "my_list2 = swap(my_list)\n",
    "print(my_list, my_list2)"
   ]
  },
  {
   "cell_type": "markdown",
   "metadata": {},
   "source": [
    "#### In-Class Exercise #1 <br>\n",
    "<p>Write a function that takes in four arguments (list, index1, index2, index3), and swaps those three positions in the list passed in.</p>"
   ]
  },
  {
   "cell_type": "code",
   "execution_count": 12,
   "metadata": {},
   "outputs": [
    {
     "name": "stdout",
     "output_type": "stream",
     "text": [
      "[10, 8, 4, 3, 4, 2, 6]\n",
      "[10, 3, 8, 4, 4, 2, 6]\n"
     ]
    }
   ],
   "source": [
    "aList = [10, 4, 3, 8, 4, 2, 6]\n",
    "\n",
    "def inplaceSwap(l_1,index1,index2,index3):\n",
    "    l_1[index1], l_1[index2], l_1[index3]= l_1[index3], l_1[index1], l_1[index2]\n",
    "    \n",
    "inplaceSwap(aList,1,2,3)\n",
    "print(aList)\n",
    "\n",
    "def outplaceSwap(l_1,index1,index2,index3):\n",
    "    l_1= l_1[:]\n",
    "    l_1[index1], l_1[index2], l_1[index3]= l_1[index3], l_1[index1], l_1[index2]\n",
    "    \n",
    "    return l_1\n",
    "    \n",
    "print(outplaceSwap(aList,1,2,3))\n",
    "\n",
    "\n",
    "    "
   ]
  },
  {
   "cell_type": "markdown",
   "metadata": {},
   "source": [
    "## Two Pointers"
   ]
  },
  {
   "cell_type": "markdown",
   "metadata": {},
   "source": [
    "#### Syntax"
   ]
  },
  {
   "cell_type": "code",
   "execution_count": 2,
   "metadata": {},
   "outputs": [
    {
     "name": "stdout",
     "output_type": "stream",
     "text": [
      "[5, 4, 3, 2, 1]\n"
     ]
    }
   ],
   "source": [
    "# usually used when comparing two items in an iterable\n",
    "\n",
    "def reverse_list(a_list):\n",
    "    a_list = a_list[:]\n",
    "    \n",
    "    left = 0\n",
    "    right = len(a_list) - 1\n",
    "    while left < right:\n",
    "        a_list[left], a_list[right] = a_list[right], a_list[left]\n",
    "        left+= 1\n",
    "        right-= 1\n",
    "    \n",
    "    return a_list\n",
    "\n",
    "print(reverse_list([1,2,3,4,5]))   "
   ]
  },
  {
   "cell_type": "markdown",
   "metadata": {},
   "source": [
    "#### Video of Algorithms <br>\n",
    "<p>Watch the video about algorithms.</p>\n",
    "\n",
    "https://www.youtube.com/watch?v=Q9HjeFD62Uk\n",
    "\n",
    "https://www.youtube.com/watch?v=kPRA0W1kECg\n",
    "\n",
    "https://www.youtube.com/watch?v=ZZuD6iUe3Pc"
   ]
  },
  {
   "cell_type": "markdown",
   "metadata": {},
   "source": [
    "# Sorting Algorithms"
   ]
  },
  {
   "cell_type": "markdown",
   "metadata": {},
   "source": [
    "#### Bubble Sort\n",
    "\n",
    "Worst Case: O(n^2) Time - O(1) Space"
   ]
  },
  {
   "cell_type": "code",
   "execution_count": 11,
   "metadata": {},
   "outputs": [
    {
     "data": {
      "text/plain": [
       "[5, 10, 11, 15, 100]"
      ]
     },
     "execution_count": 11,
     "metadata": {},
     "output_type": "execute_result"
    }
   ],
   "source": [
    "input_list = [100,11,10,5,15]\n",
    "\n",
    "def bubble_sort(a_list):\n",
    "    a_list = a_list[:]\n",
    "    end_index = len(a_list) - 1\n",
    "    is_sorted = False\n",
    "    while not is_sorted:\n",
    "        is_sorted = True\n",
    "        for i in range(end_index):\n",
    "            if a_list[i] > a_list[i+1]:\n",
    "                a_list[i], a_list[i+1] = a_list[i+1], a_list[i]\n",
    "                is_sorted = False\n",
    "    \n",
    "    return a_list\n",
    "        \n",
    "bubble_sort(input_list)\n",
    "        "
   ]
  },
  {
   "cell_type": "markdown",
   "metadata": {},
   "source": [
    "##### Insertion Sort\n",
    "\n",
    "Worst Case: O(n^2) time - O(1)space"
   ]
  },
  {
   "cell_type": "code",
   "execution_count": 14,
   "metadata": {},
   "outputs": [
    {
     "name": "stdout",
     "output_type": "stream",
     "text": [
      "[5, 10, 11, 15, 100]\n"
     ]
    }
   ],
   "source": [
    "input_list = [100,11,10,5,15]\n",
    "\n",
    "def insertion_sort(a_list):\n",
    "    a_list = a_list[:]\n",
    "    for i in range(1, len(a_list)):\n",
    "        j = i\n",
    "        while j > 0 and a_list[j] < a_list[j - 1]:\n",
    "            a_list[j], a_list[j-1] = a_list[j-1], a_list[j]\n",
    "            j -= 1\n",
    "        \n",
    "    return a_list\n",
    "\n",
    "print(insertion_sort(input_list))\n"
   ]
  },
  {
   "cell_type": "markdown",
   "metadata": {},
   "source": [
    "## Merge Sort"
   ]
  },
  {
   "cell_type": "markdown",
   "metadata": {},
   "source": [
    "#### How it Works"
   ]
  },
  {
   "cell_type": "code",
   "execution_count": 18,
   "metadata": {},
   "outputs": [
    {
     "name": "stdout",
     "output_type": "stream",
     "text": [
      "Start splitting:  [11, 10, 5, 15, 100]\n",
      "Start splitting:  [11, 10]\n",
      "Start splitting:  [11]\n",
      "Start splitting:  [10]\n",
      "Start splitting:  [5, 15, 100]\n",
      "Start splitting:  [5]\n",
      "Start splitting:  [15, 100]\n",
      "Start splitting:  [15]\n",
      "Start splitting:  [100]\n",
      "[5, 10, 11, 15, 100]\n"
     ]
    }
   ],
   "source": [
    "# Step 1 : Split everything as evenly as possible into its own group\n",
    "# Step 2 : Move from left to right merging out groups together\n",
    "# Step 3 : Compare your items and merge into the correct position\n",
    "# Step 4 : Continue until the array is sorted\n",
    "\n",
    "input_list = [11,10,5,15,100]\n",
    "\n",
    "def merge_sort(a_list): \n",
    "    print(\"Start splitting: \", a_list)\n",
    "    \n",
    "    if len(a_list) > 1:\n",
    "        mid = len(a_list) // 2 # defining middle of the list using floor division\n",
    "        left_half = a_list[:mid] # left_half is beginning of the list to the mid\n",
    "        right_half = a_list[mid:] #right_half goes from middle to the end\n",
    "        \n",
    "        merge_sort(left_half) # calling function for the left half\n",
    "        merge_sort(right_half) # calling function for the right half\n",
    "        \n",
    "        i = 0 # pointer for the left half; 0 index of the left\n",
    "        j = 0 # pointer for the right half; 0 index of the right\n",
    "        k = 0 # pointer for the main array; 0 index of main\n",
    "        \n",
    "        # Step 2, comparing the left and right halves\n",
    "        while i < len(left_half) and j < len(right_half):\n",
    "            if left_half[i] < right_half[j]:\n",
    "                a_list[k] = left_half[i]\n",
    "                i += 1\n",
    "                \n",
    "            else:\n",
    "                a_list[k] = right_half[j]\n",
    "                j += 1\n",
    "            \n",
    "            k += 1\n",
    "            \n",
    "        # Step 3, Compare our items and merge in the correct position\n",
    "        while i < len(left_half):\n",
    "            a_list[k] = left_half[i]\n",
    "            i += 1\n",
    "            k += 1\n",
    "            \n",
    "        while j < len(right_half):\n",
    "            a_list[k] = right_half[j]\n",
    "            j += 1\n",
    "            k += 1\n",
    "            \n",
    "    return a_list\n",
    "\n",
    "print(merge_sort(input_list))"
   ]
  },
  {
   "cell_type": "markdown",
   "metadata": {},
   "source": [
    "# Binary Search\n",
    "\n",
    "The Binary Search algorithm works by finding the number in the middle of a given array and comparing it to the target. Given that the array is sorted\n",
    "\n",
    "* The worst case run time for this algorithm is `O(log(n))`"
   ]
  },
  {
   "cell_type": "code",
   "execution_count": 19,
   "metadata": {},
   "outputs": [
    {
     "data": {
      "text/plain": [
       "2"
      ]
     },
     "execution_count": 19,
     "metadata": {},
     "output_type": "execute_result"
    }
   ],
   "source": [
    "a_list = [1,5,8,9]\n",
    "\n",
    "a_list.index(8)"
   ]
  },
  {
   "cell_type": "code",
   "execution_count": 4,
   "metadata": {},
   "outputs": [
    {
     "data": {
      "text/plain": [
       "4"
      ]
     },
     "execution_count": 4,
     "metadata": {},
     "output_type": "execute_result"
    }
   ],
   "source": [
    "# Step 1 : find middle index of the array\n",
    "# Step 2 : if the value at the middle index is greater than the input, narrow search the left half\n",
    "#    if the value is equal return the middle index\n",
    "#    otherwise, narrow the search to the right\n",
    "# Step 3 : repeat steps 1 & 2 until the value at the index is equal to the search value\n",
    "\n",
    "def binary_search(a_list, target):\n",
    "    \n",
    "    mid = len(a_list) // 2\n",
    "    \n",
    "    if a_list[mid] == target:\n",
    "        return mid\n",
    "    elif a_list[mid] > target:\n",
    "        return binary_search(a_list[:mid], target)\n",
    "    else:\n",
    "        return mid + binary_search(a_list[mid:], target)\n",
    "\n",
    "binary_search([1,5,8,9, 10], 10)"
   ]
  },
  {
   "cell_type": "markdown",
   "metadata": {},
   "source": [
    "# Exercises"
   ]
  },
  {
   "cell_type": "markdown",
   "metadata": {},
   "source": [
    "### Exercise #1 <br>\n",
    "<p>Reverse the list below in-place using an in-place algorithm.<br>For extra credit: Reverse the strings at the same time.</p>"
   ]
  },
  {
   "cell_type": "code",
   "execution_count": 9,
   "metadata": {},
   "outputs": [
    {
     "name": "stdout",
     "output_type": "stream",
     "text": [
      "['.', 'sentence', 'a', 'is', 'this']\n"
     ]
    }
   ],
   "source": [
    "words = ['this' , 'is', 'a', 'sentence', '.']\n",
    "\n",
    "def reverse_list(list, index1, index2, index3, index4, index5):\n",
    "    list[index1], list[index2], list[index3], list[index4], list[index5] = list[index5], list[index4], list[index3], list[index2], list[index1]\n",
    "\n",
    "reverse_list(words, 0, 1, 2, 3, 4)\n",
    "print(words)"
   ]
  },
  {
   "cell_type": "markdown",
   "metadata": {},
   "source": [
    "### Exercise #2 <br>\n",
    "<p>Create a function that counts how many distinct words are in the string below, then outputs a dictionary with the words as the key and the value as the amount of times that word appears in the string.<br>Should output:<br>{'a': 5,<br>\n",
    " 'abstract': 1,<br>\n",
    " 'an': 3,<br>\n",
    " 'array': 2, ... etc...</p>"
   ]
  },
  {
   "cell_type": "code",
   "execution_count": 37,
   "metadata": {},
   "outputs": [
    {
     "name": "stdout",
     "output_type": "stream",
     "text": [
      "{'in': 1, 'computing': 1, 'a': 5, 'hash': 4, 'table': 2, 'map': 2, 'is': 1, 'data': 2, 'structure': 2, 'which': 2, 'implements': 1, 'an': 3, 'associative': 1, 'array': 2, 'abstract': 1, 'type': 1, 'that': 1, 'can': 2, 'keys': 1, 'to': 2, 'values': 1, 'uses': 1, 'function': 1, 'compute': 1, 'index': 1, 'into': 1, 'of': 1, 'buckets': 1, 'or': 1, 'slots': 1, 'from': 1, 'the': 1, 'desired': 1, 'value': 1, 'be': 1, 'found': 1}\n"
     ]
    }
   ],
   "source": [
    "a_text = 'In computing, a hash table hash map is a data structure which implements an associative array abstract data type, a structure that can map keys to values. A hash table uses a hash function to compute an index into an array of buckets or slots from which the desired value can be found'\n",
    "\n",
    "def remove_punc_case(text):\n",
    "    output = ''\n",
    "    for char in text:\n",
    "        if char.isalpha() == True:\n",
    "            output += char.lower()\n",
    "        elif char == ' ':\n",
    "            output += char\n",
    "    return output\n",
    "\n",
    "\n",
    "a_text1 = remove_punc_case(a_text)\n",
    "\n",
    "def word_counter(text):\n",
    "    output_dictionary = {}\n",
    "    text1 = text.split()\n",
    "    for t in text1:\n",
    "        word_count = text1.count(t)\n",
    "        output_dictionary[t] = word_count\n",
    "        \n",
    "    print(output_dictionary)\n",
    "\n",
    "    \n",
    "word_counter(a_text1)\n",
    "        \n",
    "       "
   ]
  },
  {
   "cell_type": "markdown",
   "metadata": {},
   "source": [
    "## Exercise #3\n",
    "\n",
    "Write a program to implement a Linear Search Algorithm. Also in a comment, write the Time Complexity of the following algorithm.\n",
    "\n",
    "#### Hint: Linear Searching will require searching a list for a given number. "
   ]
  },
  {
   "cell_type": "code",
   "execution_count": 53,
   "metadata": {},
   "outputs": [
    {
     "name": "stdout",
     "output_type": "stream",
     "text": [
      "6\n"
     ]
    },
    {
     "data": {
      "text/plain": [
       "6"
      ]
     },
     "execution_count": 53,
     "metadata": {},
     "output_type": "execute_result"
    }
   ],
   "source": [
    "# enumerate ?\n",
    "# time complexity will be linear\n",
    "\n",
    "# time complexity 0(n) ?\n",
    "\n",
    "list1 = [1,2,3,4,5,6,7]\n",
    "\n",
    "def find_num(a_list, target):\n",
    "    for n in a_list:\n",
    "        if n == target:\n",
    "            print(a_list.index(n))\n",
    "            return a_list.index(n)\n",
    "\n",
    "find_num(list1, 7)"
   ]
  }
 ],
 "metadata": {
  "kernelspec": {
   "display_name": "Python 3 (ipykernel)",
   "language": "python",
   "name": "python3"
  },
  "language_info": {
   "codemirror_mode": {
    "name": "ipython",
    "version": 3
   },
   "file_extension": ".py",
   "mimetype": "text/x-python",
   "name": "python",
   "nbconvert_exporter": "python",
   "pygments_lexer": "ipython3",
   "version": "3.9.12"
  }
 },
 "nbformat": 4,
 "nbformat_minor": 2
}
